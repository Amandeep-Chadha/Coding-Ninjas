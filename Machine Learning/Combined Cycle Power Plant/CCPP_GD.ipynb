{
 "cells": [
  {
   "cell_type": "code",
   "execution_count": 1,
   "id": "96c539cc",
   "metadata": {},
   "outputs": [],
   "source": [
    "import numpy as np\n",
    "import pandas as pd\n",
    "from sklearn import preprocessing"
   ]
  },
  {
   "cell_type": "code",
   "execution_count": 2,
   "id": "9e518835",
   "metadata": {},
   "outputs": [],
   "source": [
    "# importing datasets\n",
    "training = np.genfromtxt('./0000000000002419_training_ccpp_x_y_train.csv', delimiter=',')\n",
    "testing = np.genfromtxt('./0000000000002419_test_ccpp_x_test.csv', delimiter=',')"
   ]
  },
  {
   "cell_type": "code",
   "execution_count": 3,
   "id": "429ea448",
   "metadata": {},
   "outputs": [
    {
     "data": {
      "text/plain": [
       "(7176, 5)"
      ]
     },
     "execution_count": 3,
     "metadata": {},
     "output_type": "execute_result"
    }
   ],
   "source": [
    "training.shape"
   ]
  },
  {
   "cell_type": "code",
   "execution_count": 4,
   "id": "feb616ab",
   "metadata": {},
   "outputs": [],
   "source": [
    "# prepare function  adds dummy vatiables of order 3 and adds intercept\n",
    "def prepare(training):\n",
    "    df = pd.DataFrame(training)\n",
    "    X = len(df.columns)\n",
    "    for i in range(X-1):\n",
    "        for j in range(i, X-1):\n",
    "            for k in range(j, X-1):\n",
    "                for l in range(k, X-1):\n",
    "                    df[f'{i}_{j}_{k}_{l}'] = df[i]*df[j]*df[k]*df[l]\n",
    "    df['C'] = 1\n",
    "    col_list = list(df.columns)\n",
    "    col_list[X-1], col_list[-2] = col_list[-2], col_list[X-1]\n",
    "    col_list[-1], col_list[-2] = col_list[-2], col_list[-1]\n",
    "    df = df[col_list]\n",
    "    training = np.array(df) \n",
    "    x = training[:,:-1]\n",
    "    y = training[:, -1]\n",
    "    return x, y\n",
    "# Optimisation step\n",
    "def step_grad(m, x, y, step_length):\n",
    "    m_slope = np.zeros(len(x[0]))\n",
    "    M = len(x[0])\n",
    "    for i in range(len(x)):\n",
    "        xi = x[i]\n",
    "        yi = y[i]\n",
    "    #calculating slope of m\n",
    "        m_slope += (-2/M)*(yi-(m*xi).sum())*(xi)\n",
    "    #calculting value of m\n",
    "    return (m - (step_length*m_slope))\n",
    "#error function for gradient descent\n",
    "def cost(m, x, y):\n",
    "    cost=0\n",
    "    for i in range(len(x)):\n",
    "        cost +=(1/len(x))*((y[i]-(m*x[i]).sum())**2)\n",
    "    return(cost)\n",
    "\n",
    "def gd(x, y, step_length, num_iter):\n",
    "    m = np.zeros(len(x[0]))\n",
    "    for i in range(num_iter):\n",
    "        m = step_grad(m, x, y, step_length)\n",
    "    #print(f'Cost for iteration {i}: {cost(m, x, y)}')\n",
    "    \n",
    "    return m\n",
    "def run(x, y):\n",
    "    num_iter = 500\n",
    "    step_length = 0.000221\n",
    "    m = gd(x, y, step_length, num_iter)\n",
    "    return m"
   ]
  },
  {
   "cell_type": "code",
   "execution_count": 5,
   "id": "30b01993",
   "metadata": {
    "scrolled": true
   },
   "outputs": [],
   "source": [
    "training = np.genfromtxt('./0000000000002419_training_ccpp_x_y_train.csv', delimiter=',')\n",
    "\n",
    "x, y = prepare(training)\n",
    "df = pd.DataFrame(x)\n",
    "#feature scaling\n",
    "scaler = preprocessing.StandardScaler()\n",
    "scaler.fit(df.iloc[:,:-1])\n",
    "df = scaler.transform(df.iloc[:,:-1])\n",
    "for i in range(len(df)):\n",
    "    x[i] = np.append(df[i], np.ones(1))\n",
    "\n",
    "m = run(x, y)\n",
    "n = len(x)\n",
    "#predictions\n",
    "pred =[]\n",
    "for i in range(n):\n",
    "    sigma = np.append(df[i,:], np.ones(1))\n",
    "    pred.append(round(sum(sigma*m), 5))\n",
    "# print(pred)"
   ]
  },
  {
   "cell_type": "code",
   "execution_count": 6,
   "id": "7ed7fdde",
   "metadata": {},
   "outputs": [],
   "source": [
    "testing = np.genfromtxt('./0000000000002419_test_ccpp_x_test.csv', delimiter=',')\n",
    "\n",
    "def test_prepare(training):\n",
    "    df = pd.DataFrame(training)\n",
    "    df['y'] = 1\n",
    "    X = len(df.columns)\n",
    "    for i in range(X-1):\n",
    "        for j in range(i, X-1):\n",
    "            for k in range(j, X-1):\n",
    "                for l in range(k, X-1):\n",
    "                    df[f'{i}_{j}_{k}_{l}'] = df[i]*df[j]*df[k]*df[l]\n",
    "    df['C'] = 1\n",
    "    col_list = list(df.columns)\n",
    "    col_list[X-1], col_list[-2] = col_list[-2], col_list[X-1]\n",
    "    col_list[-1], col_list[-2] = col_list[-2], col_list[-1]\n",
    "    df = df[col_list]\n",
    "    training = np.array(df) \n",
    "    x = training[:,:-1]\n",
    "    return x\n",
    "\n",
    "x = test_prepare(testing)\n",
    "df = pd.DataFrame(x)\n",
    "# print(df)\n",
    "df = scaler.transform(df.iloc[:,:-1])\n",
    "# print(pd.DataFrame(df))\n",
    "\n",
    "pred1 = []\n",
    "n = len(x)\n",
    "for i in range(n):\n",
    "    sigma = np.append(df[i,:], np.ones(1))\n",
    "    pred1.append(round(sum(sigma*m), 5))\n",
    "    \n",
    "# print(pred1)"
   ]
  },
  {
   "cell_type": "code",
   "execution_count": 7,
   "id": "83cf70b6",
   "metadata": {},
   "outputs": [],
   "source": [
    "np.savetxt('./Predictions_CCPP_GD.csv',pred1, delimiter=',')"
   ]
  },
  {
   "cell_type": "code",
   "execution_count": null,
   "id": "13493945",
   "metadata": {},
   "outputs": [],
   "source": []
  }
 ],
 "metadata": {
  "kernelspec": {
   "display_name": "Python 3 (ipykernel)",
   "language": "python",
   "name": "python3"
  },
  "language_info": {
   "codemirror_mode": {
    "name": "ipython",
    "version": 3
   },
   "file_extension": ".py",
   "mimetype": "text/x-python",
   "name": "python",
   "nbconvert_exporter": "python",
   "pygments_lexer": "ipython3",
   "version": "3.11.4"
  }
 },
 "nbformat": 4,
 "nbformat_minor": 5
}
